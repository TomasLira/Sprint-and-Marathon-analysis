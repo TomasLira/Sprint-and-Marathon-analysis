{
 "cells": [
  {
   "cell_type": "code",
   "execution_count": 12,
   "metadata": {
    "vscode": {
     "languageId": "r"
    }
   },
   "outputs": [],
   "source": [
    "library(\"fredr\")\n",
    "library(\"tidyverse\")\n",
    "library(\"scales\")\n",
    "library(\"vroom\")\n",
    "library(\"ggplot2\")\n",
    "library(\"dplyr\")\n",
    "library(\"scales\")\n",
    "library(\"zoo\")\n",
    "library(\"gapminder\")\n",
    "library(\"utf8\")\n",
    "library(\"gridExtra\")\n",
    "library(\"socviz\")\n",
    "library(\"ggrepel\")"
   ]
  },
  {
   "cell_type": "code",
   "execution_count": 13,
   "metadata": {
    "vscode": {
     "languageId": "r"
    }
   },
   "outputs": [],
   "source": [
    "# obs:\n",
    "# mudança na escala feita da seguinte maneira:\n",
    "options(repr.plot.width=15, repr.plot.height=8)"
   ]
  },
  {
   "cell_type": "code",
   "execution_count": 14,
   "metadata": {
    "vscode": {
     "languageId": "r"
    }
   },
   "outputs": [
    {
     "name": "stdout",
     "output_type": "stream",
     "text": [
      "Rows: 18,244\n",
      "Columns: 10\n",
      "$ Rank          \u001b[3m\u001b[90m<int>\u001b[39m\u001b[23m 1, 2, 3, 4, 5, 6, 7, 8, 9, 9, 9, 12, 13, 14, 15, 16, 17,~\n",
      "$ Time          \u001b[3m\u001b[90m<chr>\u001b[39m\u001b[23m \"00:01:40.910000\", \"00:01:41.010000\", \"00:01:41.090000\",~\n",
      "$ Name          \u001b[3m\u001b[90m<chr>\u001b[39m\u001b[23m \"David Rudisha\", \"David Rudisha\", \"David Rudisha\", \"Wils~\n",
      "$ Country       \u001b[3m\u001b[90m<chr>\u001b[39m\u001b[23m \"KEN\", \"KEN\", \"KEN\", \"DEN\", \"DEN\", \"KEN\", \"KEN\", \"KEN\", ~\n",
      "$ Date.of.Birth \u001b[3m\u001b[90m<chr>\u001b[39m\u001b[23m \"1988-12-17\", \"1988-12-17\", \"1988-12-17\", \"1970-12-12\", ~\n",
      "$ Place         \u001b[3m\u001b[90m<int>\u001b[39m\u001b[23m 1, 1, 1, 1, 1, 1, 1, 1, 1, 1, 2, 1, 1, 1, 1, 1, 1, 1, 1,~\n",
      "$ City          \u001b[3m\u001b[90m<chr>\u001b[39m\u001b[23m \"London\", \"Rieti\", \"Berlin\", \"K\\303\\266ln\", \"Z\\303\\274ri~\n",
      "$ Date          \u001b[3m\u001b[90m<chr>\u001b[39m\u001b[23m \"2012-09-08\", \"2010-08-29\", \"2010-08-22\", \"1997-08-24\", ~\n",
      "$ Gender        \u001b[3m\u001b[90m<chr>\u001b[39m\u001b[23m \"Men\", \"Men\", \"Men\", \"Men\", \"Men\", \"Men\", \"Men\", \"Men\", ~\n",
      "$ Event         \u001b[3m\u001b[90m<chr>\u001b[39m\u001b[23m \"800 m\", \"800 m\", \"800 m\", \"800 m\", \"800 m\", \"800 m\", \"8~\n"
     ]
    }
   ],
   "source": [
    "runners_data = read.csv(\"Runners.csv\")\n",
    "glimpse(runners_data)"
   ]
  },
  {
   "cell_type": "code",
   "execution_count": 23,
   "metadata": {
    "vscode": {
     "languageId": "r"
    }
   },
   "outputs": [
    {
     "data": {
      "text/html": [
       "<table class=\"dataframe\">\n",
       "<caption>A data.frame: 6 x 10</caption>\n",
       "<thead>\n",
       "\t<tr><th></th><th scope=col>Rank</th><th scope=col>Time</th><th scope=col>Name</th><th scope=col>Country</th><th scope=col>Date.of.Birth</th><th scope=col>Place</th><th scope=col>City</th><th scope=col>Date</th><th scope=col>Gender</th><th scope=col>Event</th></tr>\n",
       "\t<tr><th></th><th scope=col>&lt;int&gt;</th><th scope=col>&lt;chr&gt;</th><th scope=col>&lt;chr&gt;</th><th scope=col>&lt;chr&gt;</th><th scope=col>&lt;chr&gt;</th><th scope=col>&lt;int&gt;</th><th scope=col>&lt;chr&gt;</th><th scope=col>&lt;dttm&gt;</th><th scope=col>&lt;chr&gt;</th><th scope=col>&lt;chr&gt;</th></tr>\n",
       "</thead>\n",
       "<tbody>\n",
       "\t<tr><th scope=row>1</th><td>1</td><td>00:01:40.910000</td><td>David Rudisha  </td><td>KEN</td><td>1988-12-17</td><td>1</td><td>London       </td><td>2012-09-08</td><td>Men</td><td>800 m</td></tr>\n",
       "\t<tr><th scope=row>2</th><td>2</td><td>00:01:41.010000</td><td>David Rudisha  </td><td>KEN</td><td>1988-12-17</td><td>1</td><td>Rieti        </td><td>2010-08-29</td><td>Men</td><td>800 m</td></tr>\n",
       "\t<tr><th scope=row>3</th><td>3</td><td>00:01:41.090000</td><td>David Rudisha  </td><td>KEN</td><td>1988-12-17</td><td>1</td><td>Berlin       </td><td>2010-08-22</td><td>Men</td><td>800 m</td></tr>\n",
       "\t<tr><th scope=row>4</th><td>4</td><td>00:01:41.110000</td><td>Wilson Kipketer</td><td>DEN</td><td>1970-12-12</td><td>1</td><td>K<c3><b6>ln  </td><td>1997-08-24</td><td>Men</td><td>800 m</td></tr>\n",
       "\t<tr><th scope=row>5</th><td>5</td><td>00:01:41.240000</td><td>Wilson Kipketer</td><td>DEN</td><td>1970-12-12</td><td>1</td><td>Z<c3><bc>rich</td><td>1997-08-13</td><td>Men</td><td>800 m</td></tr>\n",
       "\t<tr><th scope=row>6</th><td>6</td><td>00:01:41.330000</td><td>David Rudisha  </td><td>KEN</td><td>1988-12-17</td><td>1</td><td>Rieti        </td><td>2011-10-09</td><td>Men</td><td>800 m</td></tr>\n",
       "</tbody>\n",
       "</table>\n"
      ],
      "text/latex": [
       "A data.frame: 6 x 10\n",
       "\\begin{tabular}{r|llllllllll}\n",
       "  & Rank & Time & Name & Country & Date.of.Birth & Place & City & Date & Gender & Event\\\\\n",
       "  & <int> & <chr> & <chr> & <chr> & <chr> & <int> & <chr> & <dttm> & <chr> & <chr>\\\\\n",
       "\\hline\n",
       "\t1 & 1 & 00:01:40.910000 & David Rudisha   & KEN & 1988-12-17 & 1 & London        & 2012-09-08 & Men & 800 m\\\\\n",
       "\t2 & 2 & 00:01:41.010000 & David Rudisha   & KEN & 1988-12-17 & 1 & Rieti         & 2010-08-29 & Men & 800 m\\\\\n",
       "\t3 & 3 & 00:01:41.090000 & David Rudisha   & KEN & 1988-12-17 & 1 & Berlin        & 2010-08-22 & Men & 800 m\\\\\n",
       "\t4 & 4 & 00:01:41.110000 & Wilson Kipketer & DEN & 1970-12-12 & 1 & K<c3><b6>ln   & 1997-08-24 & Men & 800 m\\\\\n",
       "\t5 & 5 & 00:01:41.240000 & Wilson Kipketer & DEN & 1970-12-12 & 1 & Z<c3><bc>rich & 1997-08-13 & Men & 800 m\\\\\n",
       "\t6 & 6 & 00:01:41.330000 & David Rudisha   & KEN & 1988-12-17 & 1 & Rieti         & 2011-10-09 & Men & 800 m\\\\\n",
       "\\end{tabular}\n"
      ],
      "text/markdown": [
       "\n",
       "A data.frame: 6 x 10\n",
       "\n",
       "| <!--/--> | Rank &lt;int&gt; | Time &lt;chr&gt; | Name &lt;chr&gt; | Country &lt;chr&gt; | Date.of.Birth &lt;chr&gt; | Place &lt;int&gt; | City &lt;chr&gt; | Date &lt;dttm&gt; | Gender &lt;chr&gt; | Event &lt;chr&gt; |\n",
       "|---|---|---|---|---|---|---|---|---|---|---|\n",
       "| 1 | 1 | 00:01:40.910000 | David Rudisha   | KEN | 1988-12-17 | 1 | London        | 2012-09-08 | Men | 800 m |\n",
       "| 2 | 2 | 00:01:41.010000 | David Rudisha   | KEN | 1988-12-17 | 1 | Rieti         | 2010-08-29 | Men | 800 m |\n",
       "| 3 | 3 | 00:01:41.090000 | David Rudisha   | KEN | 1988-12-17 | 1 | Berlin        | 2010-08-22 | Men | 800 m |\n",
       "| 4 | 4 | 00:01:41.110000 | Wilson Kipketer | DEN | 1970-12-12 | 1 | K<c3><b6>ln   | 1997-08-24 | Men | 800 m |\n",
       "| 5 | 5 | 00:01:41.240000 | Wilson Kipketer | DEN | 1970-12-12 | 1 | Z<c3><bc>rich | 1997-08-13 | Men | 800 m |\n",
       "| 6 | 6 | 00:01:41.330000 | David Rudisha   | KEN | 1988-12-17 | 1 | Rieti         | 2011-10-09 | Men | 800 m |\n",
       "\n"
      ],
      "text/plain": [
       "  Rank Time            Name            Country Date.of.Birth Place\n",
       "1 1    00:01:40.910000 David Rudisha   KEN     1988-12-17    1    \n",
       "2 2    00:01:41.010000 David Rudisha   KEN     1988-12-17    1    \n",
       "3 3    00:01:41.090000 David Rudisha   KEN     1988-12-17    1    \n",
       "4 4    00:01:41.110000 Wilson Kipketer DEN     1970-12-12    1    \n",
       "5 5    00:01:41.240000 Wilson Kipketer DEN     1970-12-12    1    \n",
       "6 6    00:01:41.330000 David Rudisha   KEN     1988-12-17    1    \n",
       "  City          Date       Gender Event\n",
       "1 London        2012-09-08 Men    800 m\n",
       "2 Rieti         2010-08-29 Men    800 m\n",
       "3 Berlin        2010-08-22 Men    800 m\n",
       "4 K\\303\\266ln   1997-08-24 Men    800 m\n",
       "5 Z\\303\\274rich 1997-08-13 Men    800 m\n",
       "6 Rieti         2011-10-09 Men    800 m"
      ]
     },
     "metadata": {},
     "output_type": "display_data"
    }
   ],
   "source": [
    "runners_data$Date = as.POSIXct(runners_data$Date, format = \"%Y-%m-%d\")\n",
    "head(runners_data)"
   ]
  },
  {
   "cell_type": "code",
   "execution_count": 16,
   "metadata": {
    "vscode": {
     "languageId": "r"
    }
   },
   "outputs": [
    {
     "data": {
      "text/html": [
       "<table class=\"dataframe\">\n",
       "<caption>A data.frame: 9 x 1</caption>\n",
       "<thead>\n",
       "\t<tr><th scope=col>runners_data$Event</th></tr>\n",
       "\t<tr><th scope=col>&lt;chr&gt;</th></tr>\n",
       "</thead>\n",
       "<tbody>\n",
       "\t<tr><td>800 m        </td></tr>\n",
       "\t<tr><td>400 m        </td></tr>\n",
       "\t<tr><td>10,000 m     </td></tr>\n",
       "\t<tr><td>Marathon     </td></tr>\n",
       "\t<tr><td>100 m        </td></tr>\n",
       "\t<tr><td>Half marathon</td></tr>\n",
       "\t<tr><td>200 m        </td></tr>\n",
       "\t<tr><td>1500 m       </td></tr>\n",
       "\t<tr><td>5000 m       </td></tr>\n",
       "</tbody>\n",
       "</table>\n"
      ],
      "text/latex": [
       "A data.frame: 9 x 1\n",
       "\\begin{tabular}{l}\n",
       " runners\\_data\\$Event\\\\\n",
       " <chr>\\\\\n",
       "\\hline\n",
       "\t 800 m        \\\\\n",
       "\t 400 m        \\\\\n",
       "\t 10,000 m     \\\\\n",
       "\t Marathon     \\\\\n",
       "\t 100 m        \\\\\n",
       "\t Half marathon\\\\\n",
       "\t 200 m        \\\\\n",
       "\t 1500 m       \\\\\n",
       "\t 5000 m       \\\\\n",
       "\\end{tabular}\n"
      ],
      "text/markdown": [
       "\n",
       "A data.frame: 9 x 1\n",
       "\n",
       "| runners_data$Event &lt;chr&gt; |\n",
       "|---|\n",
       "| 800 m         |\n",
       "| 400 m         |\n",
       "| 10,000 m      |\n",
       "| Marathon      |\n",
       "| 100 m         |\n",
       "| Half marathon |\n",
       "| 200 m         |\n",
       "| 1500 m        |\n",
       "| 5000 m        |\n",
       "\n"
      ],
      "text/plain": [
       "  runners_data$Event\n",
       "1 800 m             \n",
       "2 400 m             \n",
       "3 10,000 m          \n",
       "4 Marathon          \n",
       "5 100 m             \n",
       "6 Half marathon     \n",
       "7 200 m             \n",
       "8 1500 m            \n",
       "9 5000 m            "
      ]
     },
     "metadata": {},
     "output_type": "display_data"
    }
   ],
   "source": [
    "runners_data|>\n",
    "distinct(runners_data$Event)"
   ]
  },
  {
   "attachments": {},
   "cell_type": "markdown",
   "metadata": {},
   "source": [
    "Quantidade de atletas que ficaram em primeiro lugar por evento"
   ]
  },
  {
   "cell_type": "code",
   "execution_count": 17,
   "metadata": {
    "vscode": {
     "languageId": "r"
    }
   },
   "outputs": [
    {
     "data": {
      "text/html": [
       "<table class=\"dataframe\">\n",
       "<caption>A data.frame: 6 x 2</caption>\n",
       "<thead>\n",
       "\t<tr><th></th><th scope=col>Name</th><th scope=col>n</th></tr>\n",
       "\t<tr><th></th><th scope=col>&lt;chr&gt;</th><th scope=col>&lt;int&gt;</th></tr>\n",
       "</thead>\n",
       "<tbody>\n",
       "\t<tr><th scope=row>1</th><td>Asafa Powell  </td><td>75</td></tr>\n",
       "\t<tr><th scope=row>2</th><td>Merlene Ottey </td><td>73</td></tr>\n",
       "\t<tr><th scope=row>3</th><td>Usain Bolt    </td><td>48</td></tr>\n",
       "\t<tr><th scope=row>4</th><td>Justin Gatlin </td><td>47</td></tr>\n",
       "\t<tr><th scope=row>5</th><td>Maurice Greene</td><td>46</td></tr>\n",
       "\t<tr><th scope=row>6</th><td>Marion Jones  </td><td>40</td></tr>\n",
       "</tbody>\n",
       "</table>\n"
      ],
      "text/latex": [
       "A data.frame: 6 x 2\n",
       "\\begin{tabular}{r|ll}\n",
       "  & Name & n\\\\\n",
       "  & <chr> & <int>\\\\\n",
       "\\hline\n",
       "\t1 & Asafa Powell   & 75\\\\\n",
       "\t2 & Merlene Ottey  & 73\\\\\n",
       "\t3 & Usain Bolt     & 48\\\\\n",
       "\t4 & Justin Gatlin  & 47\\\\\n",
       "\t5 & Maurice Greene & 46\\\\\n",
       "\t6 & Marion Jones   & 40\\\\\n",
       "\\end{tabular}\n"
      ],
      "text/markdown": [
       "\n",
       "A data.frame: 6 x 2\n",
       "\n",
       "| <!--/--> | Name &lt;chr&gt; | n &lt;int&gt; |\n",
       "|---|---|---|\n",
       "| 1 | Asafa Powell   | 75 |\n",
       "| 2 | Merlene Ottey  | 73 |\n",
       "| 3 | Usain Bolt     | 48 |\n",
       "| 4 | Justin Gatlin  | 47 |\n",
       "| 5 | Maurice Greene | 46 |\n",
       "| 6 | Marion Jones   | 40 |\n",
       "\n"
      ],
      "text/plain": [
       "  Name           n \n",
       "1 Asafa Powell   75\n",
       "2 Merlene Ottey  73\n",
       "3 Usain Bolt     48\n",
       "4 Justin Gatlin  47\n",
       "5 Maurice Greene 46\n",
       "6 Marion Jones   40"
      ]
     },
     "metadata": {},
     "output_type": "display_data"
    }
   ],
   "source": [
    "first_place_runners_100m <- runners_data |>\n",
    "filter(Place == 1, Event == \"100 m\") |>\n",
    "count(Name,sort = TRUE) \n",
    "\n",
    "first_place_runners_100m <- first_place_runners_100m[1:15,]\n",
    "head(first_place_runners_100m)"
   ]
  },
  {
   "cell_type": "code",
   "execution_count": 18,
   "metadata": {
    "vscode": {
     "languageId": "r"
    }
   },
   "outputs": [
    {
     "data": {
      "text/html": [
       "<table class=\"dataframe\">\n",
       "<caption>A data.frame: 6 x 2</caption>\n",
       "<thead>\n",
       "\t<tr><th></th><th scope=col>Name</th><th scope=col>n</th></tr>\n",
       "\t<tr><th></th><th scope=col>&lt;chr&gt;</th><th scope=col>&lt;int&gt;</th></tr>\n",
       "</thead>\n",
       "<tbody>\n",
       "\t<tr><th scope=row>1</th><td>Haile Gebrselassie</td><td>9</td></tr>\n",
       "\t<tr><th scope=row>2</th><td>Catherine N'dereba</td><td>8</td></tr>\n",
       "\t<tr><th scope=row>3</th><td>Paula Radcliffe   </td><td>8</td></tr>\n",
       "\t<tr><th scope=row>4</th><td>Aberu Kebede      </td><td>7</td></tr>\n",
       "\t<tr><th scope=row>5</th><td>Ingrid Kristiansen</td><td>7</td></tr>\n",
       "\t<tr><th scope=row>6</th><td>Naoko Takahashi   </td><td>7</td></tr>\n",
       "</tbody>\n",
       "</table>\n"
      ],
      "text/latex": [
       "A data.frame: 6 x 2\n",
       "\\begin{tabular}{r|ll}\n",
       "  & Name & n\\\\\n",
       "  & <chr> & <int>\\\\\n",
       "\\hline\n",
       "\t1 & Haile Gebrselassie & 9\\\\\n",
       "\t2 & Catherine N'dereba & 8\\\\\n",
       "\t3 & Paula Radcliffe    & 8\\\\\n",
       "\t4 & Aberu Kebede       & 7\\\\\n",
       "\t5 & Ingrid Kristiansen & 7\\\\\n",
       "\t6 & Naoko Takahashi    & 7\\\\\n",
       "\\end{tabular}\n"
      ],
      "text/markdown": [
       "\n",
       "A data.frame: 6 x 2\n",
       "\n",
       "| <!--/--> | Name &lt;chr&gt; | n &lt;int&gt; |\n",
       "|---|---|---|\n",
       "| 1 | Haile Gebrselassie | 9 |\n",
       "| 2 | Catherine N'dereba | 8 |\n",
       "| 3 | Paula Radcliffe    | 8 |\n",
       "| 4 | Aberu Kebede       | 7 |\n",
       "| 5 | Ingrid Kristiansen | 7 |\n",
       "| 6 | Naoko Takahashi    | 7 |\n",
       "\n"
      ],
      "text/plain": [
       "  Name               n\n",
       "1 Haile Gebrselassie 9\n",
       "2 Catherine N'dereba 8\n",
       "3 Paula Radcliffe    8\n",
       "4 Aberu Kebede       7\n",
       "5 Ingrid Kristiansen 7\n",
       "6 Naoko Takahashi    7"
      ]
     },
     "metadata": {},
     "output_type": "display_data"
    }
   ],
   "source": [
    "first_place_runners_marathon <- runners_data |>\n",
    "filter(Place == 1, Event == \"Marathon\") |>\n",
    "count(Name,sort = TRUE) \n",
    "\n",
    "first_place_runners_marathon <- first_place_runners_marathon[1:15,]\n",
    "head(first_place_runners_marathon)"
   ]
  },
  {
   "attachments": {},
   "cell_type": "markdown",
   "metadata": {},
   "source": [
    "paises com o a maior quantidade de vitórias"
   ]
  },
  {
   "cell_type": "code",
   "execution_count": 19,
   "metadata": {
    "vscode": {
     "languageId": "r"
    }
   },
   "outputs": [
    {
     "data": {
      "text/html": [
       "<table class=\"dataframe\">\n",
       "<caption>A data.frame: 6 x 2</caption>\n",
       "<thead>\n",
       "\t<tr><th></th><th scope=col>Country</th><th scope=col>n</th></tr>\n",
       "\t<tr><th></th><th scope=col>&lt;chr&gt;</th><th scope=col>&lt;int&gt;</th></tr>\n",
       "</thead>\n",
       "<tbody>\n",
       "\t<tr><th scope=row>1</th><td>USA</td><td>1793</td></tr>\n",
       "\t<tr><th scope=row>2</th><td>KEN</td><td>1384</td></tr>\n",
       "\t<tr><th scope=row>3</th><td>JAM</td><td> 651</td></tr>\n",
       "\t<tr><th scope=row>4</th><td>ETH</td><td> 597</td></tr>\n",
       "\t<tr><th scope=row>5</th><td>RUS</td><td> 386</td></tr>\n",
       "\t<tr><th scope=row>6</th><td>GBR</td><td> 230</td></tr>\n",
       "</tbody>\n",
       "</table>\n"
      ],
      "text/latex": [
       "A data.frame: 6 x 2\n",
       "\\begin{tabular}{r|ll}\n",
       "  & Country & n\\\\\n",
       "  & <chr> & <int>\\\\\n",
       "\\hline\n",
       "\t1 & USA & 1793\\\\\n",
       "\t2 & KEN & 1384\\\\\n",
       "\t3 & JAM &  651\\\\\n",
       "\t4 & ETH &  597\\\\\n",
       "\t5 & RUS &  386\\\\\n",
       "\t6 & GBR &  230\\\\\n",
       "\\end{tabular}\n"
      ],
      "text/markdown": [
       "\n",
       "A data.frame: 6 x 2\n",
       "\n",
       "| <!--/--> | Country &lt;chr&gt; | n &lt;int&gt; |\n",
       "|---|---|---|\n",
       "| 1 | USA | 1793 |\n",
       "| 2 | KEN | 1384 |\n",
       "| 3 | JAM |  651 |\n",
       "| 4 | ETH |  597 |\n",
       "| 5 | RUS |  386 |\n",
       "| 6 | GBR |  230 |\n",
       "\n"
      ],
      "text/plain": [
       "  Country n   \n",
       "1 USA     1793\n",
       "2 KEN     1384\n",
       "3 JAM      651\n",
       "4 ETH      597\n",
       "5 RUS      386\n",
       "6 GBR      230"
      ]
     },
     "metadata": {},
     "output_type": "display_data"
    }
   ],
   "source": [
    "countries_wins <- runners_data |>\n",
    "filter(Place == 1) |>\n",
    "count(Country,sort = TRUE) \n",
    "\n",
    "countries_wins <- countries_wins[1:15,]\n",
    "head(countries_wins)"
   ]
  },
  {
   "attachments": {},
   "cell_type": "markdown",
   "metadata": {},
   "source": [
    "paises com a maior quantidade de participaçoes nas competicoes"
   ]
  },
  {
   "cell_type": "code",
   "execution_count": 20,
   "metadata": {
    "vscode": {
     "languageId": "r"
    }
   },
   "outputs": [
    {
     "data": {
      "text/html": [
       "<table class=\"dataframe\">\n",
       "<caption>A data.frame: 6 x 2</caption>\n",
       "<thead>\n",
       "\t<tr><th></th><th scope=col>Country</th><th scope=col>n</th></tr>\n",
       "\t<tr><th></th><th scope=col>&lt;chr&gt;</th><th scope=col>&lt;int&gt;</th></tr>\n",
       "</thead>\n",
       "<tbody>\n",
       "\t<tr><th scope=row>1</th><td>KEN</td><td>4226</td></tr>\n",
       "\t<tr><th scope=row>2</th><td>USA</td><td>3174</td></tr>\n",
       "\t<tr><th scope=row>3</th><td>ETH</td><td>1909</td></tr>\n",
       "\t<tr><th scope=row>4</th><td>JAM</td><td>1095</td></tr>\n",
       "\t<tr><th scope=row>5</th><td>RUS</td><td> 928</td></tr>\n",
       "\t<tr><th scope=row>6</th><td>GBR</td><td> 529</td></tr>\n",
       "</tbody>\n",
       "</table>\n"
      ],
      "text/latex": [
       "A data.frame: 6 x 2\n",
       "\\begin{tabular}{r|ll}\n",
       "  & Country & n\\\\\n",
       "  & <chr> & <int>\\\\\n",
       "\\hline\n",
       "\t1 & KEN & 4226\\\\\n",
       "\t2 & USA & 3174\\\\\n",
       "\t3 & ETH & 1909\\\\\n",
       "\t4 & JAM & 1095\\\\\n",
       "\t5 & RUS &  928\\\\\n",
       "\t6 & GBR &  529\\\\\n",
       "\\end{tabular}\n"
      ],
      "text/markdown": [
       "\n",
       "A data.frame: 6 x 2\n",
       "\n",
       "| <!--/--> | Country &lt;chr&gt; | n &lt;int&gt; |\n",
       "|---|---|---|\n",
       "| 1 | KEN | 4226 |\n",
       "| 2 | USA | 3174 |\n",
       "| 3 | ETH | 1909 |\n",
       "| 4 | JAM | 1095 |\n",
       "| 5 | RUS |  928 |\n",
       "| 6 | GBR |  529 |\n",
       "\n"
      ],
      "text/plain": [
       "  Country n   \n",
       "1 KEN     4226\n",
       "2 USA     3174\n",
       "3 ETH     1909\n",
       "4 JAM     1095\n",
       "5 RUS      928\n",
       "6 GBR      529"
      ]
     },
     "metadata": {},
     "output_type": "display_data"
    }
   ],
   "source": [
    "countries_participation <- runners_data |>\n",
    "count(Country,sort = TRUE) \n",
    "\n",
    "countries_participation <- countries_participation[1:15,]\n",
    "head(countries_participation)"
   ]
  },
  {
   "attachments": {},
   "cell_type": "markdown",
   "metadata": {},
   "source": [
    "Fastest runners per event"
   ]
  },
  {
   "cell_type": "code",
   "execution_count": 21,
   "metadata": {
    "vscode": {
     "languageId": "r"
    }
   },
   "outputs": [
    {
     "data": {
      "text/html": [
       "<table class=\"dataframe\">\n",
       "<caption>A grouped_df: 9 x 3</caption>\n",
       "<thead>\n",
       "\t<tr><th scope=col>Event</th><th scope=col>Name</th><th scope=col>Time</th></tr>\n",
       "\t<tr><th scope=col>&lt;chr&gt;</th><th scope=col>&lt;chr&gt;</th><th scope=col>&lt;chr&gt;</th></tr>\n",
       "</thead>\n",
       "<tbody>\n",
       "\t<tr><td>800 m        </td><td>David Rudisha     </td><td>00:01:40.910000</td></tr>\n",
       "\t<tr><td>10,000 m     </td><td>Kenenisa Bekele   </td><td>00:26:17.530000</td></tr>\n",
       "\t<tr><td>Marathon     </td><td>Dennis Kimetto    </td><td>02:02:57       </td></tr>\n",
       "\t<tr><td>100 m        </td><td>Usain Bolt        </td><td>00:00:09.580000</td></tr>\n",
       "\t<tr><td>400 m        </td><td>Wayde van Niekerk </td><td>00:00:43.030000</td></tr>\n",
       "\t<tr><td>Half marathon</td><td>Zersenay Tadese   </td><td>00:58:23       </td></tr>\n",
       "\t<tr><td>200 m        </td><td>Usain Bolt        </td><td>00:00:19.190000</td></tr>\n",
       "\t<tr><td>5000 m       </td><td>Kenenisa Bekele   </td><td>00:12:37.350000</td></tr>\n",
       "\t<tr><td>1500 m       </td><td>Hicham El Guerrouj</td><td>00:03:26       </td></tr>\n",
       "</tbody>\n",
       "</table>\n"
      ],
      "text/latex": [
       "A grouped\\_df: 9 x 3\n",
       "\\begin{tabular}{lll}\n",
       " Event & Name & Time\\\\\n",
       " <chr> & <chr> & <chr>\\\\\n",
       "\\hline\n",
       "\t 800 m         & David Rudisha      & 00:01:40.910000\\\\\n",
       "\t 10,000 m      & Kenenisa Bekele    & 00:26:17.530000\\\\\n",
       "\t Marathon      & Dennis Kimetto     & 02:02:57       \\\\\n",
       "\t 100 m         & Usain Bolt         & 00:00:09.580000\\\\\n",
       "\t 400 m         & Wayde van Niekerk  & 00:00:43.030000\\\\\n",
       "\t Half marathon & Zersenay Tadese    & 00:58:23       \\\\\n",
       "\t 200 m         & Usain Bolt         & 00:00:19.190000\\\\\n",
       "\t 5000 m        & Kenenisa Bekele    & 00:12:37.350000\\\\\n",
       "\t 1500 m        & Hicham El Guerrouj & 00:03:26       \\\\\n",
       "\\end{tabular}\n"
      ],
      "text/markdown": [
       "\n",
       "A grouped_df: 9 x 3\n",
       "\n",
       "| Event &lt;chr&gt; | Name &lt;chr&gt; | Time &lt;chr&gt; |\n",
       "|---|---|---|\n",
       "| 800 m         | David Rudisha      | 00:01:40.910000 |\n",
       "| 10,000 m      | Kenenisa Bekele    | 00:26:17.530000 |\n",
       "| Marathon      | Dennis Kimetto     | 02:02:57        |\n",
       "| 100 m         | Usain Bolt         | 00:00:09.580000 |\n",
       "| 400 m         | Wayde van Niekerk  | 00:00:43.030000 |\n",
       "| Half marathon | Zersenay Tadese    | 00:58:23        |\n",
       "| 200 m         | Usain Bolt         | 00:00:19.190000 |\n",
       "| 5000 m        | Kenenisa Bekele    | 00:12:37.350000 |\n",
       "| 1500 m        | Hicham El Guerrouj | 00:03:26        |\n",
       "\n"
      ],
      "text/plain": [
       "  Event         Name               Time           \n",
       "1 800 m         David Rudisha      00:01:40.910000\n",
       "2 10,000 m      Kenenisa Bekele    00:26:17.530000\n",
       "3 Marathon      Dennis Kimetto     02:02:57       \n",
       "4 100 m         Usain Bolt         00:00:09.580000\n",
       "5 400 m         Wayde van Niekerk  00:00:43.030000\n",
       "6 Half marathon Zersenay Tadese    00:58:23       \n",
       "7 200 m         Usain Bolt         00:00:19.190000\n",
       "8 5000 m        Kenenisa Bekele    00:12:37.350000\n",
       "9 1500 m        Hicham El Guerrouj 00:03:26       "
      ]
     },
     "metadata": {},
     "output_type": "display_data"
    }
   ],
   "source": [
    "runners_data |>\n",
    "group_by(Event) |>\n",
    "filter(Time == min(Time)) |>\n",
    "select(Event,Name,Time)"
   ]
  },
  {
   "attachments": {},
   "cell_type": "markdown",
   "metadata": {},
   "source": [
    "# Gráficos"
   ]
  }
 ],
 "metadata": {
  "kernelspec": {
   "display_name": "R",
   "language": "R",
   "name": "ir"
  },
  "language_info": {
   "codemirror_mode": "r",
   "file_extension": ".r",
   "mimetype": "text/x-r-source",
   "name": "R",
   "pygments_lexer": "r",
   "version": "4.2.2"
  },
  "orig_nbformat": 4
 },
 "nbformat": 4,
 "nbformat_minor": 2
}
