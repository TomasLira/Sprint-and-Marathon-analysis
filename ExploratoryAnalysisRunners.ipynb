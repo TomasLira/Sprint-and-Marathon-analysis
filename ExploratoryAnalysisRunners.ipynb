{
 "cells": [
  {
   "attachments": {},
   "cell_type": "markdown",
   "metadata": {},
   "source": [
    "# Gráfico"
   ]
  },
  {
   "cell_type": "code",
   "execution_count": 215,
   "metadata": {
    "vscode": {
     "languageId": "r"
    }
   },
   "outputs": [
    {
     "data": {
      "text/html": [
       "'pt_br.utf-8/pt_br.utf-8/pt_br.utf-8/C/pt_br.utf-8/C'"
      ],
      "text/latex": [
       "'pt\\_br.utf-8/pt\\_br.utf-8/pt\\_br.utf-8/C/pt\\_br.utf-8/C'"
      ],
      "text/markdown": [
       "'pt_br.utf-8/pt_br.utf-8/pt_br.utf-8/C/pt_br.utf-8/C'"
      ],
      "text/plain": [
       "[1] \"pt_br.utf-8/pt_br.utf-8/pt_br.utf-8/C/pt_br.utf-8/C\""
      ]
     },
     "metadata": {},
     "output_type": "display_data"
    }
   ],
   "source": [
    "library(\"fredr\")\n",
    "library(\"tidyverse\")\n",
    "library(\"scales\")\n",
    "library(\"vroom\")\n",
    "library(\"ggplot2\")\n",
    "library(\"dplyr\")\n",
    "library(\"scales\")\n",
    "library(\"zoo\")\n",
    "library(\"gapminder\")\n",
    "library(\"utf8\")\n",
    "library(\"gridExtra\")\n",
    "library(\"socviz\")\n",
    "library(\"ggrepel\")\n",
    "Sys.setlocale(\"LC_ALL\", \"pt_br.utf-8\")\n",
    "library(\"lubridate\")\n",
    "library(\"readr\")"
   ]
  },
  {
   "cell_type": "code",
   "execution_count": 216,
   "metadata": {
    "vscode": {
     "languageId": "r"
    }
   },
   "outputs": [],
   "source": [
    "# obs:\n",
    "# mudança na escala feita da seguinte maneira:\n",
    "options(repr.plot.width=15, repr.plot.height=8)"
   ]
  },
  {
   "cell_type": "code",
   "execution_count": 217,
   "metadata": {
    "vscode": {
     "languageId": "r"
    }
   },
   "outputs": [
    {
     "name": "stdout",
     "output_type": "stream",
     "text": [
      "Rows: 18,244\n",
      "Columns: 10\n",
      "$ Rank          \u001b[3m\u001b[90m<int>\u001b[39m\u001b[23m 1, 2, 3, 4, 5, 6, 7, 8, 9, 9, 9, 12, 13, 14, 15, 16, 17,…\n",
      "$ Time          \u001b[3m\u001b[90m<chr>\u001b[39m\u001b[23m \"00:01:40.910000\", \"00:01:41.010000\", \"00:01:41.090000\",…\n",
      "$ Name          \u001b[3m\u001b[90m<chr>\u001b[39m\u001b[23m \"David Rudisha\", \"David Rudisha\", \"David Rudisha\", \"Wils…\n",
      "$ Country       \u001b[3m\u001b[90m<chr>\u001b[39m\u001b[23m \"KEN\", \"KEN\", \"KEN\", \"DEN\", \"DEN\", \"KEN\", \"KEN\", \"KEN\", …\n",
      "$ Date.of.Birth \u001b[3m\u001b[90m<chr>\u001b[39m\u001b[23m \"1988-12-17\", \"1988-12-17\", \"1988-12-17\", \"1970-12-12\", …\n",
      "$ Place         \u001b[3m\u001b[90m<int>\u001b[39m\u001b[23m 1, 1, 1, 1, 1, 1, 1, 1, 1, 1, 2, 1, 1, 1, 1, 1, 1, 1, 1,…\n",
      "$ City          \u001b[3m\u001b[90m<chr>\u001b[39m\u001b[23m \"London\", \"Rieti\", \"Berlin\", \"Köln\", \"Zürich\", \"Rieti\", …\n",
      "$ Date          \u001b[3m\u001b[90m<chr>\u001b[39m\u001b[23m \"2012-09-08\", \"2010-08-29\", \"2010-08-22\", \"1997-08-24\", …\n",
      "$ Gender        \u001b[3m\u001b[90m<chr>\u001b[39m\u001b[23m \"Men\", \"Men\", \"Men\", \"Men\", \"Men\", \"Men\", \"Men\", \"Men\", …\n",
      "$ Event         \u001b[3m\u001b[90m<chr>\u001b[39m\u001b[23m \"800 m\", \"800 m\", \"800 m\", \"800 m\", \"800 m\", \"800 m\", \"8…\n"
     ]
    }
   ],
   "source": [
    "runners_data = read.csv(\"Runners.csv\")\n",
    "glimpse(runners_data)"
   ]
  },
  {
   "cell_type": "code",
   "execution_count": 218,
   "metadata": {
    "vscode": {
     "languageId": "r"
    }
   },
   "outputs": [
    {
     "data": {
      "text/html": [
       "<table class=\"dataframe\">\n",
       "<caption>A data.frame: 6 x 10</caption>\n",
       "<thead>\n",
       "\t<tr><th></th><th scope=col>Rank</th><th scope=col>Time</th><th scope=col>Name</th><th scope=col>Country</th><th scope=col>Date.of.Birth</th><th scope=col>Place</th><th scope=col>City</th><th scope=col>Date</th><th scope=col>Gender</th><th scope=col>Event</th></tr>\n",
       "\t<tr><th></th><th scope=col>&lt;int&gt;</th><th scope=col>&lt;chr&gt;</th><th scope=col>&lt;chr&gt;</th><th scope=col>&lt;chr&gt;</th><th scope=col>&lt;chr&gt;</th><th scope=col>&lt;int&gt;</th><th scope=col>&lt;chr&gt;</th><th scope=col>&lt;dttm&gt;</th><th scope=col>&lt;chr&gt;</th><th scope=col>&lt;chr&gt;</th></tr>\n",
       "</thead>\n",
       "<tbody>\n",
       "\t<tr><th scope=row>1</th><td>1</td><td>00:01:40.910000</td><td>David Rudisha  </td><td>KEN</td><td>1988-12-17</td><td>1</td><td>London</td><td>2012-09-08</td><td>Men</td><td>800 m</td></tr>\n",
       "\t<tr><th scope=row>2</th><td>2</td><td>00:01:41.010000</td><td>David Rudisha  </td><td>KEN</td><td>1988-12-17</td><td>1</td><td>Rieti </td><td>2010-08-29</td><td>Men</td><td>800 m</td></tr>\n",
       "\t<tr><th scope=row>3</th><td>3</td><td>00:01:41.090000</td><td>David Rudisha  </td><td>KEN</td><td>1988-12-17</td><td>1</td><td>Berlin</td><td>2010-08-22</td><td>Men</td><td>800 m</td></tr>\n",
       "\t<tr><th scope=row>4</th><td>4</td><td>00:01:41.110000</td><td>Wilson Kipketer</td><td>DEN</td><td>1970-12-12</td><td>1</td><td>Köln  </td><td>1997-08-24</td><td>Men</td><td>800 m</td></tr>\n",
       "\t<tr><th scope=row>5</th><td>5</td><td>00:01:41.240000</td><td>Wilson Kipketer</td><td>DEN</td><td>1970-12-12</td><td>1</td><td>Zürich</td><td>1997-08-13</td><td>Men</td><td>800 m</td></tr>\n",
       "\t<tr><th scope=row>6</th><td>6</td><td>00:01:41.330000</td><td>David Rudisha  </td><td>KEN</td><td>1988-12-17</td><td>1</td><td>Rieti </td><td>2011-10-09</td><td>Men</td><td>800 m</td></tr>\n",
       "</tbody>\n",
       "</table>\n"
      ],
      "text/latex": [
       "A data.frame: 6 x 10\n",
       "\\begin{tabular}{r|llllllllll}\n",
       "  & Rank & Time & Name & Country & Date.of.Birth & Place & City & Date & Gender & Event\\\\\n",
       "  & <int> & <chr> & <chr> & <chr> & <chr> & <int> & <chr> & <dttm> & <chr> & <chr>\\\\\n",
       "\\hline\n",
       "\t1 & 1 & 00:01:40.910000 & David Rudisha   & KEN & 1988-12-17 & 1 & London & 2012-09-08 & Men & 800 m\\\\\n",
       "\t2 & 2 & 00:01:41.010000 & David Rudisha   & KEN & 1988-12-17 & 1 & Rieti  & 2010-08-29 & Men & 800 m\\\\\n",
       "\t3 & 3 & 00:01:41.090000 & David Rudisha   & KEN & 1988-12-17 & 1 & Berlin & 2010-08-22 & Men & 800 m\\\\\n",
       "\t4 & 4 & 00:01:41.110000 & Wilson Kipketer & DEN & 1970-12-12 & 1 & Köln   & 1997-08-24 & Men & 800 m\\\\\n",
       "\t5 & 5 & 00:01:41.240000 & Wilson Kipketer & DEN & 1970-12-12 & 1 & Zürich & 1997-08-13 & Men & 800 m\\\\\n",
       "\t6 & 6 & 00:01:41.330000 & David Rudisha   & KEN & 1988-12-17 & 1 & Rieti  & 2011-10-09 & Men & 800 m\\\\\n",
       "\\end{tabular}\n"
      ],
      "text/markdown": [
       "\n",
       "A data.frame: 6 x 10\n",
       "\n",
       "| <!--/--> | Rank &lt;int&gt; | Time &lt;chr&gt; | Name &lt;chr&gt; | Country &lt;chr&gt; | Date.of.Birth &lt;chr&gt; | Place &lt;int&gt; | City &lt;chr&gt; | Date &lt;dttm&gt; | Gender &lt;chr&gt; | Event &lt;chr&gt; |\n",
       "|---|---|---|---|---|---|---|---|---|---|---|\n",
       "| 1 | 1 | 00:01:40.910000 | David Rudisha   | KEN | 1988-12-17 | 1 | London | 2012-09-08 | Men | 800 m |\n",
       "| 2 | 2 | 00:01:41.010000 | David Rudisha   | KEN | 1988-12-17 | 1 | Rieti  | 2010-08-29 | Men | 800 m |\n",
       "| 3 | 3 | 00:01:41.090000 | David Rudisha   | KEN | 1988-12-17 | 1 | Berlin | 2010-08-22 | Men | 800 m |\n",
       "| 4 | 4 | 00:01:41.110000 | Wilson Kipketer | DEN | 1970-12-12 | 1 | Köln   | 1997-08-24 | Men | 800 m |\n",
       "| 5 | 5 | 00:01:41.240000 | Wilson Kipketer | DEN | 1970-12-12 | 1 | Zürich | 1997-08-13 | Men | 800 m |\n",
       "| 6 | 6 | 00:01:41.330000 | David Rudisha   | KEN | 1988-12-17 | 1 | Rieti  | 2011-10-09 | Men | 800 m |\n",
       "\n"
      ],
      "text/plain": [
       "  Rank Time            Name            Country Date.of.Birth Place City  \n",
       "1 1    00:01:40.910000 David Rudisha   KEN     1988-12-17    1     London\n",
       "2 2    00:01:41.010000 David Rudisha   KEN     1988-12-17    1     Rieti \n",
       "3 3    00:01:41.090000 David Rudisha   KEN     1988-12-17    1     Berlin\n",
       "4 4    00:01:41.110000 Wilson Kipketer DEN     1970-12-12    1     Köln  \n",
       "5 5    00:01:41.240000 Wilson Kipketer DEN     1970-12-12    1     Zürich\n",
       "6 6    00:01:41.330000 David Rudisha   KEN     1988-12-17    1     Rieti \n",
       "  Date       Gender Event\n",
       "1 2012-09-08 Men    800 m\n",
       "2 2010-08-29 Men    800 m\n",
       "3 2010-08-22 Men    800 m\n",
       "4 1997-08-24 Men    800 m\n",
       "5 1997-08-13 Men    800 m\n",
       "6 2011-10-09 Men    800 m"
      ]
     },
     "metadata": {},
     "output_type": "display_data"
    }
   ],
   "source": [
    "runners_data$Date <- as.POSIXct(runners_data$Date, format = \"%Y-%m-%d\")\n",
    "head(runners_data)"
   ]
  },
  {
   "attachments": {},
   "cell_type": "markdown",
   "metadata": {},
   "source": [
    "Vamos começar analisando a performace entre homens e mulhes"
   ]
  },
  {
   "cell_type": "code",
   "execution_count": 219,
   "metadata": {
    "vscode": {
     "languageId": "r"
    }
   },
   "outputs": [],
   "source": [
    "runners_women <- runners_data |>\n",
    "filter(Gender == \"Women\")\n",
    "\n",
    "runners_men <- runners_data |>\n",
    "filter(Gender == \"Men\")\n",
    "\n",
    "runners_men$Year <- year(runners_men$Date)\n",
    "runners_women$Year <- year(runners_women$Date)"
   ]
  },
  {
   "cell_type": "code",
   "execution_count": 220,
   "metadata": {
    "vscode": {
     "languageId": "r"
    }
   },
   "outputs": [
    {
     "name": "stdout",
     "output_type": "stream",
     "text": [
      "Rows: 54\n",
      "Columns: 5\n",
      "$ Year          \u001b[3m\u001b[90m<dbl>\u001b[39m\u001b[23m 1962, 1965, 1966, 1967, 1968, 1969, 1971, 1972, 1973, 19…\n",
      "$ Gold_medals   \u001b[3m\u001b[90m<int>\u001b[39m\u001b[23m 1, 1, 1, 2, 7, 1, 2, 5, 3, 10, 7, 7, 16, 14, 14, 15, 18,…\n",
      "$ Silver_medals \u001b[3m\u001b[90m<int>\u001b[39m\u001b[23m 0, 0, 0, 0, 4, 0, 0, 2, 0, 1, 0, 3, 4, 2, 0, 3, 1, 8, 7,…\n",
      "$ Bronze_medals \u001b[3m\u001b[90m<int>\u001b[39m\u001b[23m 0, 0, 0, 0, 3, 0, 0, 0, 0, 1, 0, 1, 1, 1, 0, 1, 0, 2, 4,…\n",
      "$ Total         \u001b[3m\u001b[90m<int>\u001b[39m\u001b[23m 1, 1, 1, 2, 14, 1, 2, 7, 3, 12, 7, 11, 21, 17, 14, 19, 1…\n"
     ]
    }
   ],
   "source": [
    "performance_runners_men <- runners_men |>\n",
    "group_by(Year) |>\n",
    "summarise(\n",
    "    Gold_medals = sum(Place == 1,na.rm = TRUE),\n",
    "    Silver_medals = sum(Place == 2,na.rm = TRUE),\n",
    "    Bronze_medals = sum(Place == 3,na.rm = TRUE),\n",
    "    Total = Gold_medals + Silver_medals + Bronze_medals\n",
    ")\n",
    "glimpse(performance_runners_men)"
   ]
  },
  {
   "cell_type": "code",
   "execution_count": 221,
   "metadata": {
    "vscode": {
     "languageId": "r"
    }
   },
   "outputs": [
    {
     "name": "stdout",
     "output_type": "stream",
     "text": [
      "Rows: 47\n",
      "Columns: 5\n",
      "$ Year          \u001b[3m\u001b[90m<dbl>\u001b[39m\u001b[23m 1964, 1972, 1973, 1974, 1976, 1977, 1978, 1979, 1980, 19…\n",
      "$ Gold_medals   \u001b[3m\u001b[90m<int>\u001b[39m\u001b[23m 1, 2, 3, 8, 28, 12, 22, 47, 59, 49, 59, 62, 119, 78, 90,…\n",
      "$ Silver_medals \u001b[3m\u001b[90m<int>\u001b[39m\u001b[23m 0, 1, 0, 0, 13, 2, 8, 13, 27, 15, 18, 26, 54, 33, 30, 30…\n",
      "$ Bronze_medals \u001b[3m\u001b[90m<int>\u001b[39m\u001b[23m 0, 0, 0, 0, 7, 0, 5, 7, 16, 8, 9, 12, 25, 11, 8, 14, 26,…\n",
      "$ Total         \u001b[3m\u001b[90m<int>\u001b[39m\u001b[23m 1, 3, 3, 8, 48, 14, 35, 67, 102, 72, 86, 100, 198, 122, …\n"
     ]
    }
   ],
   "source": [
    "performance_runners_women <- runners_women |>\n",
    "group_by(Year) |>\n",
    "summarise(\n",
    "    Gold_medals = sum(Place == 1,na.rm = TRUE),\n",
    "    Silver_medals = sum(Place == 2,na.rm = TRUE),\n",
    "    Bronze_medals = sum(Place == 3,na.rm = TRUE),\n",
    "    Total = Gold_medals + Silver_medals + Bronze_medals\n",
    ")\n",
    "glimpse(performance_runners_women)"
   ]
  },
  {
   "attachments": {},
   "cell_type": "markdown",
   "metadata": {},
   "source": [
    "Os corredores com a maior quantidade de medalhas"
   ]
  },
  {
   "cell_type": "code",
   "execution_count": 222,
   "metadata": {
    "vscode": {
     "languageId": "r"
    }
   },
   "outputs": [
    {
     "data": {
      "text/html": [
       "<table class=\"dataframe\">\n",
       "<caption>A grouped_df: 6 x 2</caption>\n",
       "<thead>\n",
       "\t<tr><th scope=col>Name</th><th scope=col>n</th></tr>\n",
       "\t<tr><th scope=col>&lt;chr&gt;</th><th scope=col>&lt;int&gt;</th></tr>\n",
       "</thead>\n",
       "<tbody>\n",
       "\t<tr><td>Michael Johnson </td><td>122</td></tr>\n",
       "\t<tr><td>Usain Bolt      </td><td>107</td></tr>\n",
       "\t<tr><td>Asafa Powell    </td><td>106</td></tr>\n",
       "\t<tr><td>LaShawn Merritt </td><td> 97</td></tr>\n",
       "\t<tr><td>Frank Fredericks</td><td> 81</td></tr>\n",
       "\t<tr><td>Justin Gatlin   </td><td> 78</td></tr>\n",
       "</tbody>\n",
       "</table>\n"
      ],
      "text/latex": [
       "A grouped\\_df: 6 x 2\n",
       "\\begin{tabular}{ll}\n",
       " Name & n\\\\\n",
       " <chr> & <int>\\\\\n",
       "\\hline\n",
       "\t Michael Johnson  & 122\\\\\n",
       "\t Usain Bolt       & 107\\\\\n",
       "\t Asafa Powell     & 106\\\\\n",
       "\t LaShawn Merritt  &  97\\\\\n",
       "\t Frank Fredericks &  81\\\\\n",
       "\t Justin Gatlin    &  78\\\\\n",
       "\\end{tabular}\n"
      ],
      "text/markdown": [
       "\n",
       "A grouped_df: 6 x 2\n",
       "\n",
       "| Name &lt;chr&gt; | n &lt;int&gt; |\n",
       "|---|---|\n",
       "| Michael Johnson  | 122 |\n",
       "| Usain Bolt       | 107 |\n",
       "| Asafa Powell     | 106 |\n",
       "| LaShawn Merritt  |  97 |\n",
       "| Frank Fredericks |  81 |\n",
       "| Justin Gatlin    |  78 |\n",
       "\n"
      ],
      "text/plain": [
       "  Name             n  \n",
       "1 Michael Johnson  122\n",
       "2 Usain Bolt       107\n",
       "3 Asafa Powell     106\n",
       "4 LaShawn Merritt   97\n",
       "5 Frank Fredericks  81\n",
       "6 Justin Gatlin     78"
      ]
     },
     "metadata": {},
     "output_type": "display_data"
    }
   ],
   "source": [
    "most_medals_men <- runners_men |>\n",
    "group_by(Name) |>\n",
    "filter(Place == 1 | Place == 2 | Place == 3) |>\n",
    "count(Name,sort = TRUE)\n",
    "\n",
    "head(most_medals_men)"
   ]
  },
  {
   "cell_type": "code",
   "execution_count": 223,
   "metadata": {
    "vscode": {
     "languageId": "r"
    }
   },
   "outputs": [
    {
     "data": {
      "text/html": [
       "<table class=\"dataframe\">\n",
       "<caption>A grouped_df: 6 x 2</caption>\n",
       "<thead>\n",
       "\t<tr><th scope=col>Name</th><th scope=col>n</th></tr>\n",
       "\t<tr><th scope=col>&lt;chr&gt;</th><th scope=col>&lt;int&gt;</th></tr>\n",
       "</thead>\n",
       "<tbody>\n",
       "\t<tr><td>Merlene Ottey          </td><td>174</td></tr>\n",
       "\t<tr><td>Gwen Torrence          </td><td> 95</td></tr>\n",
       "\t<tr><td>Veronica Campbell-Brown</td><td> 84</td></tr>\n",
       "\t<tr><td>Sanya Richards-Ross    </td><td> 83</td></tr>\n",
       "\t<tr><td>Maria Mutola           </td><td> 80</td></tr>\n",
       "\t<tr><td>Allyson Felix          </td><td> 79</td></tr>\n",
       "</tbody>\n",
       "</table>\n"
      ],
      "text/latex": [
       "A grouped\\_df: 6 x 2\n",
       "\\begin{tabular}{ll}\n",
       " Name & n\\\\\n",
       " <chr> & <int>\\\\\n",
       "\\hline\n",
       "\t Merlene Ottey           & 174\\\\\n",
       "\t Gwen Torrence           &  95\\\\\n",
       "\t Veronica Campbell-Brown &  84\\\\\n",
       "\t Sanya Richards-Ross     &  83\\\\\n",
       "\t Maria Mutola            &  80\\\\\n",
       "\t Allyson Felix           &  79\\\\\n",
       "\\end{tabular}\n"
      ],
      "text/markdown": [
       "\n",
       "A grouped_df: 6 x 2\n",
       "\n",
       "| Name &lt;chr&gt; | n &lt;int&gt; |\n",
       "|---|---|\n",
       "| Merlene Ottey           | 174 |\n",
       "| Gwen Torrence           |  95 |\n",
       "| Veronica Campbell-Brown |  84 |\n",
       "| Sanya Richards-Ross     |  83 |\n",
       "| Maria Mutola            |  80 |\n",
       "| Allyson Felix           |  79 |\n",
       "\n"
      ],
      "text/plain": [
       "  Name                    n  \n",
       "1 Merlene Ottey           174\n",
       "2 Gwen Torrence            95\n",
       "3 Veronica Campbell-Brown  84\n",
       "4 Sanya Richards-Ross      83\n",
       "5 Maria Mutola             80\n",
       "6 Allyson Felix            79"
      ]
     },
     "metadata": {},
     "output_type": "display_data"
    }
   ],
   "source": [
    "most_medals_women <- runners_women |>\n",
    "group_by(Name) |>\n",
    "filter(Place == 1 | Place == 2 | Place == 3) |>\n",
    "count(Name,sort = TRUE)\n",
    "\n",
    "head(most_medals_women)"
   ]
  },
  {
   "cell_type": "code",
   "execution_count": null,
   "metadata": {
    "vscode": {
     "languageId": "r"
    }
   },
   "outputs": [],
   "source": [
    "fastest_runners_men <- runners_men |>\n"
   ]
  }
 ],
 "metadata": {
  "kernelspec": {
   "display_name": "R",
   "language": "R",
   "name": "ir"
  },
  "language_info": {
   "codemirror_mode": "r",
   "file_extension": ".r",
   "mimetype": "text/x-r-source",
   "name": "R",
   "pygments_lexer": "r",
   "version": "4.2.2"
  },
  "orig_nbformat": 4
 },
 "nbformat": 4,
 "nbformat_minor": 2
}
